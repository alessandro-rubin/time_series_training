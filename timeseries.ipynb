{
 "cells": [
  {
   "cell_type": "code",
   "execution_count": null,
   "id": "f5310a8d",
   "metadata": {},
   "outputs": [],
   "source": [
    "import numpy as np\n",
    "import torch\n",
    "from sklearn.preprocessing import StandardScaler\n",
    "import matplotlib.pyplot as plt\n",
    "\n",
    "from src import *"
   ]
  },
  {
   "cell_type": "code",
   "execution_count": null,
   "id": "78d5efc1",
   "metadata": {},
   "outputs": [],
   "source": [
    "# Parameters\n",
    "D = 8\n",
    "window_size = 20\n",
    "\n",
    "# 1. Data\n",
    "X = generate_synthetic_data(T=1000, D=D)\n",
    "scaler = StandardScaler()\n",
    "X_scaled = scaler.fit_transform(X)\n",
    "\n",
    "X_train = sliding_windows(X_scaled[:200], window_size)\n",
    "X_train_tensor = torch.tensor(X_train, dtype=torch.float32)\n",
    "\n",
    "# 2. Model (choose one)\n",
    "model = LSTMAutoencoder(input_dim=D, hidden_dim=4)\n",
    "# model = CNNAutoencoder(input_dim=D, window_size=window_size)\n",
    "\n",
    "# 3. Train\n",
    "train_autoencoder(model, X_train_tensor, epochs=50)\n",
    "\n",
    "# 4. Inference\n",
    "scores = online_inference(model, X, scaler, window_size)\n",
    "\n",
    "# 5. Plot\n",
    "plt.figure()\n",
    "plt.plot(scores, label='Anomaly Score')\n",
    "plt.axhline(np.nanmean(scores) + 3*np.nanstd(scores), color='r', linestyle='--', label='Threshold')\n",
    "plt.legend()\n",
    "plt.title('Online Anomaly Detection Score')\n",
    "plt.show()\n"
   ]
  }
 ],
 "metadata": {
  "kernelspec": {
   "display_name": ".venv",
   "language": "python",
   "name": "python3"
  },
  "language_info": {
   "codemirror_mode": {
    "name": "ipython",
    "version": 3
   },
   "file_extension": ".py",
   "mimetype": "text/x-python",
   "name": "python",
   "nbconvert_exporter": "python",
   "pygments_lexer": "ipython3",
   "version": "3.11.11"
  }
 },
 "nbformat": 4,
 "nbformat_minor": 5
}
