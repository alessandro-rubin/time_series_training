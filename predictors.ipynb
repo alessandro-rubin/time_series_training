{
 "cells": [
  {
   "cell_type": "code",
   "execution_count": null,
   "id": "e28c406c",
   "metadata": {},
   "outputs": [],
   "source": [
    "import numpy as np\n",
    "import torch\n",
    "from sklearn.preprocessing import StandardScaler\n",
    "import matplotlib.pyplot as plt\n",
    "\n",
    "from src.inference import *\n",
    "from src.misc import *\n",
    "from src.models.predictors import *\n",
    "from src.plots import *\n",
    "from src.train import *\n",
    "from pytorch_lightning.loggers import MLFlowLogger\n",
    "from pytorch_lightning.callbacks import ModelCheckpoint\n",
    "from torch.utils.data import DataLoader, TensorDataset"
   ]
  },
  {
   "cell_type": "code",
   "execution_count": null,
   "id": "0e6c685a",
   "metadata": {},
   "outputs": [],
   "source": [
    "train_dataset = TensorDataset(torch.tensor(X_in[:700], dtype=torch.float32),\n",
    "                              torch.tensor(Y_out[:700], dtype=torch.float32))\n",
    "train_loader = DataLoader(train_dataset, batch_size=32, shuffle=True)"
   ]
  },
  {
   "cell_type": "code",
   "execution_count": null,
   "id": "2d85791f",
   "metadata": {},
   "outputs": [],
   "source": [
    "\n",
    "\n",
    "mlf_logger = MLFlowLogger(experiment_name=\"AnomalyDetection\", run_name=\"LSTM-Predictor\")\n",
    "\n",
    "checkpoint_callback = ModelCheckpoint(\n",
    "    monitor=\"train_loss\",\n",
    "    save_top_k=1,\n",
    "    mode=\"min\",\n",
    "    filename=\"checkpoint-{epoch:02d}-{train_loss:.2f}\"\n",
    ")\n",
    "\n",
    "model = SequenceToOneLSTM(input_dim=3, hidden_dim=32, lr=1e-3)\n",
    "\n",
    "trainer = pl.Trainer(\n",
    "    max_epochs=50,\n",
    "    logger=mlf_logger,\n",
    "    callbacks=[checkpoint_callback],\n",
    "    log_every_n_steps=10\n",
    ")\n",
    "\n",
    "trainer.fit(model, train_loader)\n"
   ]
  }
 ],
 "metadata": {
  "language_info": {
   "name": "python"
  }
 },
 "nbformat": 4,
 "nbformat_minor": 5
}
