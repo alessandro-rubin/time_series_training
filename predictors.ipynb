{
 "cells": [
  {
   "cell_type": "code",
   "execution_count": null,
   "id": "e28c406c",
   "metadata": {},
   "outputs": [],
   "source": [
    "import numpy as np\n",
    "import torch\n",
    "from sklearn.preprocessing import StandardScaler\n",
    "import matplotlib.pyplot as plt\n",
    "\n",
    "from src.inference import *\n",
    "from src.misc import *\n",
    "from src.models.predictors import *\n",
    "from src.plots import *\n",
    "from src.train import *\n",
    "from pytorch_lightning.loggers import MLFlowLogger\n",
    "from pytorch_lightning.callbacks import ModelCheckpoint\n",
    "from torch.utils.data import DataLoader, TensorDataset"
   ]
  },
  {
   "cell_type": "code",
   "execution_count": null,
   "id": "0e6c685a",
   "metadata": {},
   "outputs": [],
   "source": [
    "d=23\n",
    "\n",
    "X, _ = generate_synthetic_data_for_seq2one(32000,d,False)\n",
    "scaler = StandardScaler()\n",
    "X_scaled = scaler.fit_transform(X)\n",
    "\n",
    "window_size = 5\n",
    "X_in, Y_out = make_sequence_to_one(X_scaled, window_size)\n",
    "\n"
   ]
  },
  {
   "cell_type": "code",
   "execution_count": null,
   "id": "d023017a",
   "metadata": {},
   "outputs": [],
   "source": [
    "X_in.shape"
   ]
  },
  {
   "cell_type": "code",
   "execution_count": null,
   "id": "03ea6d16",
   "metadata": {},
   "outputs": [],
   "source": [
    "(torch.tensor(X_in[0]).unsqueeze(0).numpy()).astype(np.float32).shape"
   ]
  },
  {
   "cell_type": "code",
   "execution_count": null,
   "id": "9a8cb91c",
   "metadata": {},
   "outputs": [],
   "source": [
    "#base_model = Predictor(input_dim=d,n_timesteps=window_size,fc_layers=[32,16])\n",
    "base_model = SequenceToOneLSTM(d,8,output_dim=23)\n",
    "model = LitSequenceToOne(base_model)\n",
    "\n",
    "batch_size = 10\n",
    "torchinfo.summary(model, input_size=(batch_size, window_size,d))"
   ]
  },
  {
   "cell_type": "code",
   "execution_count": null,
   "id": "7d0ff5ee",
   "metadata": {},
   "outputs": [],
   "source": [
    "base_model = Predictor(input_dim=d,n_timesteps=window_size,fc_layers=[32,16],output_dim=23)\n",
    "#base_model = SequenceToOneLSTM(d,8)\n",
    "model = LitSequenceToOne(base_model)\n",
    "\n",
    "batch_size = 10\n",
    "torchinfo.summary(model, input_size=(batch_size, window_size,d))"
   ]
  },
  {
   "cell_type": "code",
   "execution_count": null,
   "id": "2d85791f",
   "metadata": {},
   "outputs": [],
   "source": [
    "import mlflow.pytorch\n",
    "\n",
    "\n",
    "mlflow.pytorch.autolog(log_models=False)\n",
    "mlflow.set_experiment(\"Anomaly Detection - autolog\")\n",
    "\n",
    "train_dataset = TensorDataset(torch.tensor(X_in[:700], dtype=torch.float32),\n",
    "                              torch.tensor(Y_out[:700], dtype=torch.float32))\n",
    "train_loader = DataLoader(train_dataset, batch_size=32, shuffle=True)\n",
    "\n",
    "# mlf_logger = MLFlowLogger(experiment_name=\"AnomalyDetection\", run_name=\"LSTM-Predictor\")\n",
    "# Enable autologging with Lightning\n",
    "\n",
    "\n",
    "checkpoint_callback = ModelCheckpoint(\n",
    "    monitor=\"train_loss\",\n",
    "    save_top_k=1,\n",
    "    mode=\"min\",\n",
    ")\n"
   ]
  },
  {
   "cell_type": "code",
   "execution_count": null,
   "id": "d35a2556",
   "metadata": {},
   "outputs": [],
   "source": [
    "X_in[0:3].shape"
   ]
  },
  {
   "cell_type": "code",
   "execution_count": null,
   "id": "9c89c481",
   "metadata": {},
   "outputs": [],
   "source": [
    "trainer = pl.Trainer(\n",
    "    max_epochs=50,\n",
    "    #logger=mlf_logger,\n",
    "    callbacks=[checkpoint_callback],\n",
    "    log_every_n_steps=1\n",
    ")\n",
    "with mlflow.start_run(run_name=\"LSTM-Predictor\") as run:\n",
    "    \n",
    "    trainer.fit(model, train_loader)\n",
    "    \n",
    "    with torch.no_grad():\n",
    "        input_example=(torch.tensor(X_in[0:1]).numpy().astype(np.float32))\n",
    "        mlflow.pytorch.log_model(model,input_example=input_example)\n",
    "mlflow.pytorch.autolog(disable=True)"
   ]
  },
  {
   "cell_type": "code",
   "execution_count": null,
   "id": "2b47da6c",
   "metadata": {},
   "outputs": [],
   "source": [
    "\n",
    "model_base= SequenceToOneLSTM(input_dim=d, hidden_dim=32)"
   ]
  },
  {
   "cell_type": "code",
   "execution_count": null,
   "id": "aab2d754",
   "metadata": {},
   "outputs": [],
   "source": [
    "print(model_base)"
   ]
  },
  {
   "cell_type": "code",
   "execution_count": null,
   "id": "7275147b",
   "metadata": {},
   "outputs": [],
   "source": [
    "train_predictor(model_base, torch.tensor(X_in[:700], dtype=torch.float32), torch.tensor(Y_out[:700], dtype=torch.float32), epochs=50, lr=1e-3, run_name=\"predictor\")"
   ]
  }
 ],
 "metadata": {
  "kernelspec": {
   "display_name": ".venv",
   "language": "python",
   "name": "python3"
  },
  "language_info": {
   "codemirror_mode": {
    "name": "ipython",
    "version": 3
   },
   "file_extension": ".py",
   "mimetype": "text/x-python",
   "name": "python",
   "nbconvert_exporter": "python",
   "pygments_lexer": "ipython3",
   "version": "3.11.11"
  }
 },
 "nbformat": 4,
 "nbformat_minor": 5
}
