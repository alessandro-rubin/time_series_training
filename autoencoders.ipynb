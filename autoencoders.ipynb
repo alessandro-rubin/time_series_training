{
 "cells": [
  {
   "cell_type": "code",
   "execution_count": null,
   "id": "f5310a8d",
   "metadata": {},
   "outputs": [],
   "source": [
    "import numpy as np\n",
    "from sklearn.preprocessing import StandardScaler\n",
    "import matplotlib.pyplot as plt\n",
    "\n",
    "from src.inference import *\n",
    "from src.misc import *\n",
    "from src.models.autoencoders import *\n",
    "from src.plots import *\n",
    "from src.train import *"
   ]
  },
  {
   "cell_type": "code",
   "execution_count": null,
   "id": "78d5efc1",
   "metadata": {},
   "outputs": [],
   "source": [
    "# Parameters\n",
    "D = 8\n",
    "window_size = 40\n",
    "total_samples= 10000\n",
    "train_samples= 9000\n",
    "\n",
    "# 1. Data\n",
    "X = generate_synthetic_data(T=total_samples, D=D)\n",
    "scaler = StandardScaler()\n",
    "X_scaled = scaler.fit_transform(X)\n",
    "\n",
    "X_train = sliding_windows(X_scaled[train_samples:], window_size)\n",
    "X_train_tensor = torch.tensor(X_train, dtype=torch.float32)\n"
   ]
  },
  {
   "cell_type": "code",
   "execution_count": null,
   "id": "2766c702",
   "metadata": {},
   "outputs": [],
   "source": [
    "print(X_train_tensor.shape) # (batch, seq_len, features)"
   ]
  },
  {
   "cell_type": "code",
   "execution_count": null,
   "id": "9ab47412",
   "metadata": {},
   "outputs": [],
   "source": [
    "# 2. Model (choose one)\n",
    "# model = LSTMAutoencoder(input_dim=D, hidden_dim=4)\n",
    "# model = CNNAutoencoder(input_dim=D)\n",
    "model = FlattenedAutoencoder(d=D, t=window_size,n1=25)\n",
    "\n"
   ]
  },
  {
   "cell_type": "code",
   "execution_count": null,
   "id": "9e62a82a",
   "metadata": {},
   "outputs": [],
   "source": [
    "batch_size = 16\n",
    "torchinfo.summary(model, input_size=(batch_size, 40,8))"
   ]
  },
  {
   "cell_type": "code",
   "execution_count": null,
   "id": "7686dec7",
   "metadata": {},
   "outputs": [],
   "source": [
    "# 3. Train\n",
    "train_autoencoder(model, X_train_tensor, epochs=50)\n",
    "\n"
   ]
  },
  {
   "cell_type": "code",
   "execution_count": null,
   "id": "740fadc2",
   "metadata": {},
   "outputs": [],
   "source": [
    "# 4. Inference\n",
    "scores = online_inference(model, X, scaler, window_size)\n"
   ]
  },
  {
   "cell_type": "code",
   "execution_count": null,
   "id": "66b27110",
   "metadata": {},
   "outputs": [],
   "source": [
    "# 5. Plot\n",
    "plt.figure(figsize=(20,12))\n",
    "plt.plot(scores, label='Anomaly Score')\n",
    "plt.axhline(np.nanmean(scores) + 3*np.nanstd(scores), color='r', linestyle='--', label='Threshold')\n",
    "plt.legend()\n",
    "plt.grid()\n",
    "plt.title('Online Anomaly Detection Score')\n",
    "plt.show()\n"
   ]
  },
  {
   "cell_type": "code",
   "execution_count": null,
   "id": "08d6984c",
   "metadata": {},
   "outputs": [],
   "source": [
    "# After calling model on a window:\n",
    "window_size = 40\n",
    "window_start = 293\n",
    "x_window = X[window_start:window_start + window_size]\n",
    "x_window_scaled = scaler.transform(x_window)\n",
    "x_input = torch.tensor(x_window_scaled, dtype=torch.float32).unsqueeze(0)\n",
    "\n",
    "with torch.no_grad():\n",
    "    x_output = model(x_input).squeeze(0).numpy()\n",
    "\n",
    "# Inverse scale if needed\n",
    "x_original = scaler.inverse_transform(x_window_scaled)\n",
    "x_reconstructed = scaler.inverse_transform(x_output)\n",
    "\n",
    "plot_reconstruction(x_original, x_reconstructed, window_start=window_start)\n"
   ]
  },
  {
   "cell_type": "code",
   "execution_count": null,
   "id": "af4b2784",
   "metadata": {},
   "outputs": [],
   "source": [
    "import plotly.graph_objs as go\n",
    "\n",
    "fig = go.Figure()\n",
    "for i in range(D):\n",
    "    fig.add_trace(go.Scatter(y=X[:, i], mode='lines', name=f'Signal {i+1}'))\n",
    "\n",
    "fig.update_layout(\n",
    "    title='Each Signal in X Timeseries',\n",
    "    xaxis_title='Time',\n",
    "    yaxis_title='Value',\n",
    "    legend_title='Signals',\n",
    "    height=600,\n",
    "    width=1000\n",
    ")\n",
    "fig.show()"
   ]
  }
 ],
 "metadata": {
  "kernelspec": {
   "display_name": ".venv",
   "language": "python",
   "name": "python3"
  },
  "language_info": {
   "codemirror_mode": {
    "name": "ipython",
    "version": 3
   },
   "file_extension": ".py",
   "mimetype": "text/x-python",
   "name": "python",
   "nbconvert_exporter": "python",
   "pygments_lexer": "ipython3",
   "version": "3.11.11"
  }
 },
 "nbformat": 4,
 "nbformat_minor": 5
}
